{
 "cells": [
  {
   "cell_type": "markdown",
   "id": "a8a27e24-a8ce-4b05-9f8c-1c151f520c49",
   "metadata": {},
   "source": [
    "Creation Of Array"
   ]
  },
  {
   "cell_type": "code",
   "execution_count": 2,
   "id": "4a1a90bd-2632-420f-84b6-140044c03207",
   "metadata": {},
   "outputs": [],
   "source": [
    "#Name:Payal Sandip Gimokar\n",
    "#Roll No.:25\n",
    "#Subject:ET 1\n",
    "#Section:3C\n",
    "#date:09/08/2024"
   ]
  },
  {
   "cell_type": "code",
   "execution_count": 4,
   "id": "9c9ad945-dfb6-409b-8959-0239fcb6e057",
   "metadata": {},
   "outputs": [],
   "source": [
    "#Aim:Creation Of Array Using Numpy"
   ]
  },
  {
   "cell_type": "code",
   "execution_count": 6,
   "id": "a3f67727-4ad7-4eed-aa43-30517463eec0",
   "metadata": {},
   "outputs": [],
   "source": [
    "import numpy as np"
   ]
  },
  {
   "cell_type": "code",
   "execution_count": 8,
   "id": "1fd7f001-dfe9-4def-8ccc-770d27635189",
   "metadata": {},
   "outputs": [],
   "source": [
    "a1=np.array([50,60,30,80,20,90])"
   ]
  },
  {
   "cell_type": "code",
   "execution_count": 10,
   "id": "47fb6c66-fcbd-41a9-a81a-2f10d6434dd9",
   "metadata": {},
   "outputs": [
    {
     "data": {
      "text/plain": [
       "array([50, 60, 30, 80, 20, 90])"
      ]
     },
     "execution_count": 10,
     "metadata": {},
     "output_type": "execute_result"
    }
   ],
   "source": [
    "a1"
   ]
  },
  {
   "cell_type": "code",
   "execution_count": 18,
   "id": "22dfede0-1851-402f-8b23-eb59e6157ad8",
   "metadata": {},
   "outputs": [],
   "source": [
    "a2=np.array([['P1','P2','P3','P4'],['AAA','BBB','CCC','DDD'],[10,20,30,40]])"
   ]
  },
  {
   "cell_type": "code",
   "execution_count": 20,
   "id": "fb4e8b5c-afa2-4925-b3ea-b41a417f036d",
   "metadata": {},
   "outputs": [
    {
     "data": {
      "text/plain": [
       "array([['P1', 'P2', 'P3', 'P4'],\n",
       "       ['AAA', 'BBB', 'CCC', 'DDD'],\n",
       "       ['10', '20', '30', '40']], dtype='<U11')"
      ]
     },
     "execution_count": 20,
     "metadata": {},
     "output_type": "execute_result"
    }
   ],
   "source": [
    "a2"
   ]
  },
  {
   "cell_type": "code",
   "execution_count": 26,
   "id": "e7d73b90-9219-45bf-af7f-5a0c598acd7a",
   "metadata": {},
   "outputs": [],
   "source": [
    "a3=np.array([[50,60,30,20],[10,30,20,35]])"
   ]
  },
  {
   "cell_type": "code",
   "execution_count": 28,
   "id": "2408066d-716f-4425-bdae-a8b7027c2a90",
   "metadata": {},
   "outputs": [
    {
     "data": {
      "text/plain": [
       "array([[50, 60, 30, 20],\n",
       "       [10, 30, 20, 35]])"
      ]
     },
     "execution_count": 28,
     "metadata": {},
     "output_type": "execute_result"
    }
   ],
   "source": [
    "a3"
   ]
  },
  {
   "cell_type": "code",
   "execution_count": null,
   "id": "17292e00-fe58-4e82-a873-05c5e8e122df",
   "metadata": {},
   "outputs": [],
   "source": []
  }
 ],
 "metadata": {
  "kernelspec": {
   "display_name": "Python 3 (ipykernel)",
   "language": "python",
   "name": "python3"
  },
  "language_info": {
   "codemirror_mode": {
    "name": "ipython",
    "version": 3
   },
   "file_extension": ".py",
   "mimetype": "text/x-python",
   "name": "python",
   "nbconvert_exporter": "python",
   "pygments_lexer": "ipython3",
   "version": "3.12.4"
  }
 },
 "nbformat": 4,
 "nbformat_minor": 5
}
