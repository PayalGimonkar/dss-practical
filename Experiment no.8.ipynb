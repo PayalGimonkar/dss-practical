{
 "cells": [
  {
   "cell_type": "markdown",
   "id": "f0288104-cd81-4f5e-9e78-72118ce10edb",
   "metadata": {},
   "source": [
    "Central Tendency Of Measures"
   ]
  },
  {
   "cell_type": "code",
   "execution_count": 2,
   "id": "b0a854a3-2991-4a33-8a85-78ee2a608853",
   "metadata": {},
   "outputs": [],
   "source": [
    "#Name:Payal Sandip Gimonkar\n",
    "#Roll no.:25\n",
    "#Subject:ET 1\n",
    "#Section:3c\n",
    "#Date:30/08/2024"
   ]
  },
  {
   "cell_type": "code",
   "execution_count": 4,
   "id": "92e0bc07-dc3b-4047-8c6f-076da5b6af24",
   "metadata": {},
   "outputs": [],
   "source": [
    "#Aim: To Perform Central Tendency Of Measures"
   ]
  },
  {
   "cell_type": "code",
   "execution_count": 6,
   "id": "8a9dbff7-7936-4fc7-98f9-0ce048547910",
   "metadata": {},
   "outputs": [],
   "source": [
    "age=[21,21,22,23,22,21,23,21,21,21,22,23,22,21,23,21,21,21,22,23,22]"
   ]
  },
  {
   "cell_type": "code",
   "execution_count": 8,
   "id": "726198c2-f565-4e3a-b319-3a6e65364f70",
   "metadata": {},
   "outputs": [
    {
     "data": {
      "text/plain": [
       "[21,\n",
       " 21,\n",
       " 22,\n",
       " 23,\n",
       " 22,\n",
       " 21,\n",
       " 23,\n",
       " 21,\n",
       " 21,\n",
       " 21,\n",
       " 22,\n",
       " 23,\n",
       " 22,\n",
       " 21,\n",
       " 23,\n",
       " 21,\n",
       " 21,\n",
       " 21,\n",
       " 22,\n",
       " 23,\n",
       " 22]"
      ]
     },
     "execution_count": 8,
     "metadata": {},
     "output_type": "execute_result"
    }
   ],
   "source": [
    "age"
   ]
  },
  {
   "cell_type": "code",
   "execution_count": 10,
   "id": "2ea8a353-2d7f-4b6b-8636-327ffc43fae7",
   "metadata": {},
   "outputs": [],
   "source": [
    "import statistics"
   ]
  },
  {
   "cell_type": "code",
   "execution_count": 14,
   "id": "0d4cb9cd-cb2d-4a6a-88f4-5a1f408c7425",
   "metadata": {},
   "outputs": [],
   "source": [
    "MEAN=statistics.mean(age)"
   ]
  },
  {
   "cell_type": "code",
   "execution_count": 16,
   "id": "7d7686d2-14d8-43b4-bec0-e49de3d33760",
   "metadata": {},
   "outputs": [
    {
     "data": {
      "text/plain": [
       "21.761904761904763"
      ]
     },
     "execution_count": 16,
     "metadata": {},
     "output_type": "execute_result"
    }
   ],
   "source": [
    "MEAN"
   ]
  },
  {
   "cell_type": "code",
   "execution_count": 18,
   "id": "0aa99bd6-ba74-4ef1-a539-bfffc3658409",
   "metadata": {},
   "outputs": [],
   "source": [
    "MEDIAN=statistics.median(age)"
   ]
  },
  {
   "cell_type": "code",
   "execution_count": 22,
   "id": "663513bb-4a2e-4fcc-8dbf-10c8cd84a162",
   "metadata": {},
   "outputs": [
    {
     "data": {
      "text/plain": [
       "22"
      ]
     },
     "execution_count": 22,
     "metadata": {},
     "output_type": "execute_result"
    }
   ],
   "source": [
    "MEDIAN"
   ]
  },
  {
   "cell_type": "code",
   "execution_count": 24,
   "id": "f2db4d51-3d76-4f88-aa67-9b7de8bd34bd",
   "metadata": {},
   "outputs": [],
   "source": [
    "MODE=statistics.mode(age)"
   ]
  },
  {
   "cell_type": "code",
   "execution_count": 26,
   "id": "90c0c4ed-933b-4b7b-98a7-5b64dc80a5dc",
   "metadata": {},
   "outputs": [
    {
     "data": {
      "text/plain": [
       "21"
      ]
     },
     "execution_count": 26,
     "metadata": {},
     "output_type": "execute_result"
    }
   ],
   "source": [
    "MODE"
   ]
  },
  {
   "cell_type": "code",
   "execution_count": null,
   "id": "a3b4364f-c96c-4a07-8c33-0ad7ea1bdbb8",
   "metadata": {},
   "outputs": [],
   "source": []
  }
 ],
 "metadata": {
  "kernelspec": {
   "display_name": "Python 3 (ipykernel)",
   "language": "python",
   "name": "python3"
  },
  "language_info": {
   "codemirror_mode": {
    "name": "ipython",
    "version": 3
   },
   "file_extension": ".py",
   "mimetype": "text/x-python",
   "name": "python",
   "nbconvert_exporter": "python",
   "pygments_lexer": "ipython3",
   "version": "3.12.4"
  }
 },
 "nbformat": 4,
 "nbformat_minor": 5
}
